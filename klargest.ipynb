{
 "cells": [
  {
   "cell_type": "code",
   "execution_count": 1,
   "metadata": {},
   "outputs": [
    {
     "data": {
      "text/plain": [
       "klargest (generic function with 1 method)"
      ]
     },
     "execution_count": 1,
     "metadata": {},
     "output_type": "execute_result"
    }
   ],
   "source": [
    "function klargest(v, k)\n",
    "    i = rand(1:length(v))\n",
    "    v[i], v[1] = v[1], v[i]\n",
    "    println(\"klargest($v,$k)\")\n",
    "    length(v) == 1 && return v[1]\n",
    "    l = [x for x in v if x >= v[1]]\n",
    "    r = [x for x in v if x < v[1]]\n",
    "    if k <= length(l)\n",
    "        return klargest(l,k)\n",
    "    else\n",
    "        return klargest(r,k-length(l))\n",
    "    end\n",
    "end"
   ]
  },
  {
   "cell_type": "code",
   "execution_count": 2,
   "metadata": {},
   "outputs": [
    {
     "data": {
      "text/plain": [
       "klargest (generic function with 1 method)"
      ]
     },
     "execution_count": 2,
     "metadata": {},
     "output_type": "execute_result"
    }
   ],
   "source": [
    "function klargest(v, k)\n",
    "    i = rand(1:length(v))\n",
    "    v[i], v[1] = v[1], v[i]\n",
    "    println(\"klargest($v,$k)\")\n",
    "    \n",
    "    l = [x for x in v if x >= v[1]]\n",
    "    r = [x for x in v if x < v[1]]\n",
    "    if k < length(l)\n",
    "        return klargest(l,k)\n",
    "    \n",
    "    elseif k > length(l)\n",
    "        return A=klargest(r,k-length(l))\n",
    "        append!(l,A)\n",
    "    else k = length(l)\n",
    "        return l\n",
    "    end                        \n",
    "end"
   ]
  },
  {
   "cell_type": "code",
   "execution_count": null,
   "metadata": {},
   "outputs": [],
   "source": []
  }
 ],
 "metadata": {
  "kernelspec": {
   "display_name": "Julia 1.2.0",
   "language": "julia",
   "name": "julia-1.2"
  },
  "language_info": {
   "file_extension": ".jl",
   "mimetype": "application/julia",
   "name": "julia",
   "version": "1.2.0"
  }
 },
 "nbformat": 4,
 "nbformat_minor": 2
}
