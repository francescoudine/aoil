{
 "cells": [
  {
   "cell_type": "markdown",
   "metadata": {},
   "source": [
    "Dijsktra's Algorithm\n",
    "----"
   ]
  },
  {
   "cell_type": "code",
   "execution_count": null,
   "metadata": {},
   "outputs": [],
   "source": [
    "include(\"Heap.jl\");"
   ]
  },
  {
   "cell_type": "markdown",
   "metadata": {},
   "source": [
    "Assignment 1: Implement Dijkstra's algo using the following hints:\n",
    " - `q=Heap(D)` will create a heap with weights `D[1],...,D[n]`\n",
    "   (equivalent to using `push!(q,...)` repeatedly) )\n",
    " - `p = pop!(q)` removes the smallest element. `p.w` and `p.i` are respectively its\n",
    "   weight and index\n",
    " - `decrease_value!(q, i, wnew)` will decrease the weight of `i` to `wnew`\n",
    " - Assume `W` to be a weighted graph in adjacency list format, i.e.:\n",
    "   `for (j,w) in W[i]` will iterate over neighbors `j` of `i`, with `wij=w`\n"
   ]
  },
  {
   "cell_type": "code",
   "execution_count": null,
   "metadata": {},
   "outputs": [],
   "source": [
    "function dijkstra(W, s)\n",
    "    n = size(W, 1)\n",
    "    D = [i==s ? 0.0 : Inf for i=1:n] # optimal distances from s\n",
    "    P = [0 for i=1:n] # \"parent\" of each node\n",
    "    ...(12 short lines)...\n",
    "    return P, D\n",
    "end"
   ]
  },
  {
   "cell_type": "markdown",
   "metadata": {},
   "source": [
    "Example graph generation\n",
    "---"
   ]
  },
  {
   "cell_type": "code",
   "execution_count": null,
   "metadata": {},
   "outputs": [],
   "source": [
    "# generate distance matrix and sparse graph\n",
    "n = 1000\n",
    "X = [rand() for i=1:n]\n",
    "Y = [rand() for i=1:n]\n",
    "D = [sqrt((X[i]-X[j])^2+(Y[i]-Y[j])^2) for i=1:n, j=1:n];\n",
    "\n",
    "W = [[] for i=1:n]\n",
    "R = 0.05 \n",
    "for i=1:n, j=1:i-1\n",
    "    if D[i,j] < R\n",
    "        push!(W[i], (j,D[i,j]))\n",
    "        push!(W[j], (i,D[i,j]))\n",
    "    end\n",
    "end"
   ]
  },
  {
   "cell_type": "markdown",
   "metadata": {},
   "source": [
    "Plotting\n",
    "---"
   ]
  },
  {
   "cell_type": "code",
   "execution_count": null,
   "metadata": {},
   "outputs": [],
   "source": [
    "using PyPlot\n",
    "\n",
    "function plotlines(lines)\n",
    "    line_segments = matplotlib.collections.LineCollection(lines)\n",
    "    fig = figure()\n",
    "    ax = PyPlot.axes()\n",
    "    ax.add_collection(line_segments)\n",
    "    axis()\n",
    "end"
   ]
  },
  {
   "cell_type": "code",
   "execution_count": null,
   "metadata": {},
   "outputs": [],
   "source": [
    "plot(X,Y,\"+\")\n",
    "P,D = dijkstra(W,1);\n",
    "lines = [[(X[i],Y[i]),(X[P[i]],Y[P[i]])] for i=2:n];\n",
    "plotlines(lines)"
   ]
  },
  {
   "cell_type": "markdown",
   "metadata": {},
   "source": [
    "Q1: Can you guess from the plot which node is `s`?\n",
    "\n",
    "Q2: What happens if we put R=2? Why?"
   ]
  },
  {
   "cell_type": "markdown",
   "metadata": {},
   "source": [
    "Prim's Algorithm\n",
    "---\n",
    "\n",
    "Assignment 2: Modify your algorithm in order to implement Prim's algorithm for the MST. Compare the shortest-path tree and the MST\n",
    "\n",
    "Q3: Can you guess from the plot of the MST which node is `s`?"
   ]
  },
  {
   "cell_type": "code",
   "execution_count": null,
   "metadata": {},
   "outputs": [],
   "source": []
  }
 ],
 "metadata": {
  "@webio": {
   "lastCommId": "e1cf80bed066496e9a56a4d2eacfbd52",
   "lastKernelId": "36b7e2dd-1f55-45fa-9184-4b880518fd37"
  },
  "kernelspec": {
   "display_name": "Julia 1.2.0",
   "language": "julia",
   "name": "julia-1.2"
  },
  "language_info": {
   "file_extension": ".jl",
   "mimetype": "application/julia",
   "name": "julia",
   "version": "1.2.0"
  },
  "latex_envs": {
   "LaTeX_envs_menu_present": false,
   "autoclose": false,
   "autocomplete": false,
   "bibliofile": "biblio.bib",
   "cite_by": "apalike",
   "current_citInitial": 1,
   "eqLabelWithNumbers": true,
   "eqNumInitial": 1,
   "hotkeys": {
    "equation": "Ctrl-E",
    "itemize": "Ctrl-I"
   },
   "labels_anchors": false,
   "latex_user_defs": false,
   "report_style_numbering": false,
   "user_envs_cfg": false
  }
 },
 "nbformat": 4,
 "nbformat_minor": 2
}
